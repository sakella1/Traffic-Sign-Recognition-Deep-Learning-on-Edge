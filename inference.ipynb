{
 "cells": [
  {
   "cell_type": "code",
   "execution_count": null,
   "metadata": {},
   "outputs": [],
   "source": [
    "import tensorflow as tf\n",
    "import numpy as np\n",
    "import paho.mqtt.client as mqtt\n",
    "\n",
    "import os\n",
    "import matplotlib.pyplot as plt\n",
    "import PIL.Image as Image"
   ]
  },
  {
   "cell_type": "code",
   "execution_count": null,
   "metadata": {},
   "outputs": [],
   "source": [
    "# Load the model\n",
    "model = tf.keras.models.load_model('inception_augmented')"
   ]
  },
  {
   "cell_type": "code",
   "execution_count": null,
   "metadata": {},
   "outputs": [],
   "source": [
    "# Set model requirements for image size\n",
    "IMG_HEIGHT = 299\n",
    "IMG_WIDTH = 299\n",
    "\n",
    "# Set folder for testing images\n",
    "test_drive=\"test_route\""
   ]
  },
  {
   "cell_type": "code",
   "execution_count": null,
   "metadata": {},
   "outputs": [],
   "source": [
    "# MQTT Client details\n",
    "# Broker\n",
    "host = \"broker\" \n",
    "# Port\n",
    "port = 1883\n",
    "# Message topic\n",
    "topic = \"signs\""
   ]
  },
  {
   "cell_type": "code",
   "execution_count": null,
   "metadata": {},
   "outputs": [],
   "source": [
    "# Define function to specify when the program is connected to host\n",
    "def on_message(client,userdata, msg):\n",
    "  try:\n",
    "    print(\"message received!\")\n",
    "    # Throw Exception if there is an error\n",
    "  except:\n",
    "    print(\"Unexpected error:\", sys.exc_info()[0])\n",
    "\n",
    "\n",
    "client = mqtt.Client()\n",
    "client.connect(host,port,60)\n",
    "client.on_message = on_message"
   ]
  },
  {
   "cell_type": "code",
   "execution_count": null,
   "metadata": {},
   "outputs": [],
   "source": [
    "def run_inference(file):\n",
    "    \"\"\" Opens the img file, runs it through the classifier and returns a class number (int).\"\"\"\n",
    "    sign = Image.open(test_drive+\"/\"+file).resize((IMG_WIDTH,IMG_HEIGHT))\n",
    "    sign.show() # Display the image being tested for audience.\n",
    "    sign  = np.array(sign)/255.0\n",
    "    result = model.predict(sign[np.newaxis, ...])\n",
    "    predicted_class = np.argmax(result[0], axis=-1)\n",
    "    return predicted_class"
   ]
  },
  {
   "cell_type": "code",
   "execution_count": null,
   "metadata": {
    "scrolled": true
   },
   "outputs": [],
   "source": [
    "# Loop for running MQTT. \n",
    "# Open folder of images for testing\n",
    "for img in os.listdir(test_drive):\n",
    "    # Run prediction on image\n",
    "    prediction = run_inference(img)\n",
    "    # Publish the prediction onto the MQTT topic. Note it will arrive as type byte\n",
    "    client.publish(topic,prediction)"
   ]
  }
 ],
 "metadata": {
  "kernelspec": {
   "display_name": "Python 3",
   "language": "python",
   "name": "python3"
  },
  "language_info": {
   "codemirror_mode": {
    "name": "ipython",
    "version": 3
   },
   "file_extension": ".py",
   "mimetype": "text/x-python",
   "name": "python",
   "nbconvert_exporter": "python",
   "pygments_lexer": "ipython3",
   "version": "3.6.9"
  }
 },
 "nbformat": 4,
 "nbformat_minor": 4
}
